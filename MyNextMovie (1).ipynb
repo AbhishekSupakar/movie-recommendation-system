{
  "nbformat": 4,
  "nbformat_minor": 0,
  "metadata": {
    "colab": {
      "provenance": []
    },
    "kernelspec": {
      "name": "python3",
      "display_name": "Python 3"
    },
    "language_info": {
      "name": "python"
    }
  },
  "cells": [
    {
      "cell_type": "code",
      "execution_count": null,
      "metadata": {
        "colab": {
          "base_uri": "https://localhost:8080/"
        },
        "id": "RmI43PugFJ1z",
        "outputId": "c89a1f10-1d71-4988-df2c-2ab28258c286"
      },
      "outputs": [
        {
          "output_type": "execute_result",
          "data": {
            "text/plain": [
              "(   movieId                               title  \\\n",
              " 0        1                    Toy Story (1995)   \n",
              " 1        2                      Jumanji (1995)   \n",
              " 2        3             Grumpier Old Men (1995)   \n",
              " 3        4            Waiting to Exhale (1995)   \n",
              " 4        5  Father of the Bride Part II (1995)   \n",
              " \n",
              "                                         genres  \n",
              " 0  Adventure|Animation|Children|Comedy|Fantasy  \n",
              " 1                   Adventure|Children|Fantasy  \n",
              " 2                               Comedy|Romance  \n",
              " 3                         Comedy|Drama|Romance  \n",
              " 4                                       Comedy  ,\n",
              "    userId  movieId  rating   timestamp\n",
              " 0       1       16     4.0  1217897793\n",
              " 1       1       24     1.5  1217895807\n",
              " 2       1       32     4.0  1217896246\n",
              " 3       1       47     4.0  1217896556\n",
              " 4       1       50     4.0  1217896523)"
            ]
          },
          "metadata": {},
          "execution_count": 1
        }
      ],
      "source": [
        "import pandas as pd\n",
        "\n",
        "movies_path = '/content/movies.csv'\n",
        "ratings_path = '/content/ratings.csv'\n",
        "\n",
        "movies_df = pd.read_csv(movies_path)\n",
        "ratings_df = pd.read_csv(ratings_path)\n",
        "\n",
        "movies_df.head(), ratings_df.head()\n"
      ]
    },
    {
      "cell_type": "code",
      "source": [
        "\n",
        "unique_users = ratings_df['userId'].nunique()\n",
        "unique_movies = ratings_df['movieId'].nunique()\n",
        "\n",
        "rating_stats = ratings_df['rating'].describe()\n",
        "\n",
        "all_genres = set(genre for sublist in movies_df['genres'].str.split('|').tolist() for genre in sublist)\n",
        "unique_genres = len(all_genres)\n",
        "\n",
        "genre_counts = pd.Series([genre for sublist in movies_df['genres'].str.split('|').tolist() for genre in sublist]).value_counts()\n",
        "\n",
        "unique_users, unique_movies, rating_stats, unique_genres, genre_counts.head(10)\n"
      ],
      "metadata": {
        "colab": {
          "base_uri": "https://localhost:8080/"
        },
        "id": "zqqT2j3hGEyj",
        "outputId": "56ea6c2f-61f2-4b66-9e91-bcec0c234a0c"
      },
      "execution_count": null,
      "outputs": [
        {
          "output_type": "execute_result",
          "data": {
            "text/plain": [
              "(668,\n",
              " 10325,\n",
              " count    105339.000000\n",
              " mean          3.516850\n",
              " std           1.044872\n",
              " min           0.500000\n",
              " 25%           3.000000\n",
              " 50%           3.500000\n",
              " 75%           4.000000\n",
              " max           5.000000\n",
              " Name: rating, dtype: float64,\n",
              " 20,\n",
              " Drama        5220\n",
              " Comedy       3515\n",
              " Thriller     2187\n",
              " Romance      1788\n",
              " Action       1737\n",
              " Crime        1440\n",
              " Adventure    1164\n",
              " Horror       1001\n",
              " Sci-Fi        860\n",
              " Mystery       675\n",
              " Name: count, dtype: int64)"
            ]
          },
          "metadata": {},
          "execution_count": 2
        }
      ]
    },
    {
      "cell_type": "code",
      "source": [
        "def popularity_based_recommender(movies_df, ratings_df, genre, min_reviews, num_recommendations):\n",
        "    genre_movies = movies_df[movies_df['genres'].str.contains(genre, case=False, na=False)]\n",
        "\n",
        "    genre_ratings = pd.merge(genre_movies[['movieId', 'title']], ratings_df, on='movieId')\n",
        "\n",
        "    popularity_df = genre_ratings.groupby(['movieId', 'title']).agg(\n",
        "        avg_rating=('rating', 'mean'),\n",
        "        num_reviews=('rating', 'count')\n",
        "    ).reset_index()\n",
        "\n",
        "    popular_movies = popularity_df[popularity_df['num_reviews'] >= min_reviews]\n",
        "    top_movies = popular_movies.sort_values(by='avg_rating', ascending=False).head(num_recommendations)\n",
        "\n",
        "    return top_movies[['title', 'avg_rating', 'num_reviews']]\n",
        "\n",
        "genre = \"Comedy\"\n",
        "min_reviews = 100\n",
        "num_recommendations = 5\n",
        "print(popularity_based_recommender(movies_df, ratings_df, genre, min_reviews, num_recommendations))\n"
      ],
      "metadata": {
        "colab": {
          "base_uri": "https://localhost:8080/"
        },
        "id": "rEe-x3zRGM6j",
        "outputId": "6fc7bf84-3181-4b7f-f49b-35ed2583fa35"
      },
      "execution_count": null,
      "outputs": [
        {
          "output_type": "stream",
          "name": "stdout",
          "text": [
            "                                      title  avg_rating  num_reviews\n",
            "326  Monty Python and the Holy Grail (1975)    4.301948          154\n",
            "193                            Fargo (1996)    4.271144          201\n",
            "337              Princess Bride, The (1987)    4.163743          171\n",
            "90                      Pulp Fiction (1994)    4.160000          325\n",
            "110                     Forrest Gump (1994)    4.138264          311\n"
          ]
        }
      ]
    },
    {
      "cell_type": "code",
      "source": [
        "def content_based_recommender(movies_df, movie_title, num_recommendations):\n",
        "    target_movie = movies_df[movies_df['title'].str.contains(movie_title, case=False, na=False)]\n",
        "    if target_movie.empty:\n",
        "        return f\"No movie found with title {movie_title}.\"\n",
        "\n",
        "    target_genres = target_movie.iloc[0]['genres'].split('|')\n",
        "\n",
        "    similar_movies = movies_df[movies_df['genres'].apply(lambda x: any(genre in x for genre in target_genres))]\n",
        "    similar_movies = similar_movies[similar_movies['title'] != target_movie.iloc[0]['title']]\n",
        "\n",
        "    return similar_movies[['title']].head(num_recommendations)\n",
        "\n",
        "movie_title = \"Toy Story\"\n",
        "num_recommendations = 5\n",
        "print(content_based_recommender(movies_df, movie_title, num_recommendations))\n"
      ],
      "metadata": {
        "id": "59PMj8gkLkjS",
        "colab": {
          "base_uri": "https://localhost:8080/"
        },
        "outputId": "a6cbb9f6-4ea8-4ab4-ae47-7b3a8a47e82f"
      },
      "execution_count": null,
      "outputs": [
        {
          "output_type": "stream",
          "name": "stdout",
          "text": [
            "                                title\n",
            "1                      Jumanji (1995)\n",
            "2             Grumpier Old Men (1995)\n",
            "3            Waiting to Exhale (1995)\n",
            "4  Father of the Bride Part II (1995)\n",
            "6                      Sabrina (1995)\n"
          ]
        }
      ]
    },
    {
      "cell_type": "code",
      "source": [
        "from sklearn.metrics.pairwise import cosine_similarity\n",
        "import numpy as np\n",
        "\n",
        "def collaborative_based_recommender(ratings_df, user_id, num_recommendations, k_similar_users):\n",
        "    user_movie_ratings = ratings_df.pivot(index='userId', columns='movieId', values='rating').fillna(0)\n",
        "\n",
        "    similarity_matrix = cosine_similarity(user_movie_ratings)\n",
        "    similarity_df = pd.DataFrame(similarity_matrix, index=user_movie_ratings.index, columns=user_movie_ratings.index)\n",
        "\n",
        "    similar_users = similarity_df[user_id].sort_values(ascending=False).index[1:k_similar_users+1]\n",
        "\n",
        "    similar_users_ratings = user_movie_ratings.loc[similar_users]\n",
        "    recommended_movies = similar_users_ratings.mean(axis=0).sort_values(ascending=False)\n",
        "\n",
        "    watched_movies = user_movie_ratings.loc[user_id][user_movie_ratings.loc[user_id] > 0].index\n",
        "    recommended_movies = recommended_movies[~recommended_movies.index.isin(watched_movies)]\n",
        "\n",
        "    return recommended_movies.head(num_recommendations).index.tolist()\n",
        "\n",
        "user_id = 1\n",
        "num_recommendations = 5\n",
        "k_similar_users = 100\n",
        "print(collaborative_based_recommender(ratings_df, user_id, num_recommendations, k_similar_users))\n"
      ],
      "metadata": {
        "colab": {
          "base_uri": "https://localhost:8080/"
        },
        "id": "0-ICWZJ6fJCr",
        "outputId": "4c127443-4919-47e8-a6e5-a14a2522e620"
      },
      "execution_count": null,
      "outputs": [
        {
          "output_type": "stream",
          "name": "stdout",
          "text": [
            "[1291, 1, 1036, 1200, 4226]\n"
          ]
        }
      ]
    },
    {
      "cell_type": "code",
      "source": [],
      "metadata": {
        "id": "pj4Yr3CgfRlz"
      },
      "execution_count": null,
      "outputs": []
    }
  ]
}